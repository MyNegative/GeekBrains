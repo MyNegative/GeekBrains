{
 "cells": [
  {
   "cell_type": "code",
   "execution_count": 1,
   "id": "6c10136e",
   "metadata": {},
   "outputs": [],
   "source": [
    "import json\n",
    "import requests\n",
    "from bs4 import BeautifulSoup as bs"
   ]
  },
  {
   "cell_type": "code",
   "execution_count": 2,
   "id": "666070b3",
   "metadata": {},
   "outputs": [
    {
     "name": "stdout",
     "output_type": "stream",
     "text": [
      "Collecting data from page #1\n",
      "Collecting data from page #2\n",
      "Collecting data from page #3\n",
      "Collecting data from page #4\n",
      "Collecting data from page #5\n",
      "Collecting data from page #6\n",
      "Collecting data from page #7\n",
      "Collecting data from page #8\n",
      "Collecting data from page #9\n",
      "Collecting data from page #10\n",
      "Done!\n"
     ]
    }
   ],
   "source": [
    "url = 'https://quotes.toscrape.com/'\n",
    "empty = 'No quotes found!'\n",
    "all_qoutes = []\n",
    "p = 1\n",
    "\n",
    "while True:\n",
    "    print(f'Collecting data from page #{p}')\n",
    "    req = requests.get(url)\n",
    "    if req.status_code == 200:\n",
    "        page = bs(req.content, 'html.parser')\n",
    "        nothing = page.select_one('div[class=row] div[class=col-md-8]').text\n",
    "        \n",
    "        qoutes = page.find_all('div', class_='quote')\n",
    "        \n",
    "        for q in qoutes:\n",
    "            author = q.find('small', {'class': 'author'}).text\n",
    "            text = q.find('span', attrs={'class':'text'}).text\n",
    "            tags = q.find('div', {'class':'tags'}).find('meta')['content']\n",
    "    \n",
    "            quotes_dict = {\n",
    "                'Author': author,\n",
    "                'Quote': text,\n",
    "                'Tags': tags.replace(',', ', ')\n",
    "            }\n",
    "    \n",
    "            all_qoutes.append(quotes_dict)\n",
    "        \n",
    "        try:\n",
    "            next_page = page.select_one('nav li[class=next] a')['href']\n",
    "            url = f'https://quotes.toscrape.com/{next_page}'\n",
    "            p += 1\n",
    "        except:\n",
    "            break\n",
    "\n",
    "print('Done!')  \n",
    "    \n",
    "with open('Quotes.json', 'w') as jf:\n",
    "    json.dump(all_qoutes, jf)"
   ]
  },
  {
   "cell_type": "code",
   "execution_count": 3,
   "id": "f4d9ad02",
   "metadata": {},
   "outputs": [
    {
     "data": {
      "text/plain": [
       "({'Author': 'Albert Einstein',\n",
       "  'Quote': '“The world as we have created it is a process of our thinking. It cannot be changed without changing our thinking.”',\n",
       "  'Tags': 'change, deep-thoughts, thinking, world'},\n",
       " {'Author': 'George R.R. Martin',\n",
       "  'Quote': '“... a mind needs books as a sword needs a whetstone, if it is to keep its edge.”',\n",
       "  'Tags': 'books, mind'})"
      ]
     },
     "execution_count": 3,
     "metadata": {},
     "output_type": "execute_result"
    }
   ],
   "source": [
    "# Список получился большой, поэтому для красоты выведу первый и последний элементы\n",
    "all_qoutes[0], all_qoutes[-1]"
   ]
  },
  {
   "cell_type": "code",
   "execution_count": null,
   "id": "cee27cc8",
   "metadata": {},
   "outputs": [],
   "source": []
  }
 ],
 "metadata": {
  "kernelspec": {
   "display_name": "Python 3",
   "language": "python",
   "name": "python3"
  },
  "language_info": {
   "codemirror_mode": {
    "name": "ipython",
    "version": 3
   },
   "file_extension": ".py",
   "mimetype": "text/x-python",
   "name": "python",
   "nbconvert_exporter": "python",
   "pygments_lexer": "ipython3",
   "version": "3.8.8"
  }
 },
 "nbformat": 4,
 "nbformat_minor": 5
}
