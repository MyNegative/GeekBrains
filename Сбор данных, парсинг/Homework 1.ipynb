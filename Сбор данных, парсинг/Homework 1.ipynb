{
 "cells": [
  {
   "cell_type": "code",
   "execution_count": 1,
   "id": "c5bed22d",
   "metadata": {},
   "outputs": [],
   "source": [
    "import requests\n",
    "import json"
   ]
  },
  {
   "cell_type": "code",
   "execution_count": 2,
   "id": "0ce89ba5",
   "metadata": {},
   "outputs": [
    {
     "data": {
      "text/plain": [
       "{'location': {'name': 'Buenos Aires',\n",
       "  'region': 'Distrito Federal',\n",
       "  'country': 'Argentina',\n",
       "  'lat': -34.59,\n",
       "  'lon': -58.67,\n",
       "  'tz_id': 'America/Argentina/Buenos_Aires',\n",
       "  'localtime_epoch': 1650119493,\n",
       "  'localtime': '2022-04-16 11:31'},\n",
       " 'current': {'last_updated_epoch': 1650119400,\n",
       "  'last_updated': '2022-04-16 11:30',\n",
       "  'temp_c': 20.0,\n",
       "  'temp_f': 68.0,\n",
       "  'is_day': 1,\n",
       "  'condition': {'text': 'Partly cloudy',\n",
       "   'icon': '//cdn.weatherapi.com/weather/64x64/day/116.png',\n",
       "   'code': 1003},\n",
       "  'wind_mph': 8.1,\n",
       "  'wind_kph': 13.0,\n",
       "  'wind_degree': 40,\n",
       "  'wind_dir': 'NE',\n",
       "  'pressure_mb': 1024.0,\n",
       "  'pressure_in': 30.24,\n",
       "  'precip_mm': 0.0,\n",
       "  'precip_in': 0.0,\n",
       "  'humidity': 68,\n",
       "  'cloud': 25,\n",
       "  'feelslike_c': 20.0,\n",
       "  'feelslike_f': 68.0,\n",
       "  'vis_km': 10.0,\n",
       "  'vis_miles': 6.0,\n",
       "  'uv': 5.0,\n",
       "  'gust_mph': 4.5,\n",
       "  'gust_kph': 7.2}}"
      ]
     },
     "execution_count": 2,
     "metadata": {},
     "output_type": "execute_result"
    }
   ],
   "source": [
    "url = 'http://api.weatherapi.com/v1/current.json'\n",
    "keys = {\n",
    "    'key':'f8bfadea6678472dba4141441221604',\n",
    "    'q':'Buenos Aires'\n",
    "}\n",
    "req = requests.get(url, keys)\n",
    "req.json()"
   ]
  },
  {
   "cell_type": "code",
   "execution_count": 3,
   "id": "aa175336",
   "metadata": {},
   "outputs": [],
   "source": [
    "with open('Homework_1.json', 'w', encoding='utf-8') as file:\n",
    "    json.dump(req.text, file, ensure_ascii=False, indent=4)"
   ]
  }
 ],
 "metadata": {
  "kernelspec": {
   "display_name": "Python 3",
   "language": "python",
   "name": "python3"
  },
  "language_info": {
   "codemirror_mode": {
    "name": "ipython",
    "version": 3
   },
   "file_extension": ".py",
   "mimetype": "text/x-python",
   "name": "python",
   "nbconvert_exporter": "python",
   "pygments_lexer": "ipython3",
   "version": "3.8.8"
  }
 },
 "nbformat": 4,
 "nbformat_minor": 5
}
