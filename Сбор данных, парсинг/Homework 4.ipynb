{
 "cells": [
  {
   "cell_type": "code",
   "execution_count": 1,
   "id": "c12c2183",
   "metadata": {},
   "outputs": [],
   "source": [
    "#Импорт необходимых библиотек\n",
    "\n",
    "import requests\n",
    "from bs4 import BeautifulSoup as bs\n",
    "import sqlite3"
   ]
  },
  {
   "cell_type": "code",
   "execution_count": 2,
   "id": "68f1efac",
   "metadata": {},
   "outputs": [
    {
     "name": "stdout",
     "output_type": "stream",
     "text": [
      "Collecting data from page #1\n",
      "Collecting data from page #2\n",
      "Collecting data from page #3\n",
      "Collecting data from page #4\n",
      "Collecting data from page #5\n",
      "Collecting data from page #6\n",
      "Collecting data from page #7\n",
      "Collecting data from page #8\n",
      "Collecting data from page #9\n",
      "Collecting data from page #10\n",
      "Done!\n"
     ]
    }
   ],
   "source": [
    "#Парсинг страницы\n",
    "\n",
    "url = 'https://quotes.toscrape.com/'\n",
    "all_qoutes = []\n",
    "p = 1\n",
    "\n",
    "while True:\n",
    "    print(f'Collecting data from page #{p}')\n",
    "    req = requests.get(url)\n",
    "    if req.status_code == 200:\n",
    "        page = bs(req.content, 'html.parser')\n",
    "        qoutes = page.find_all('div', class_='quote')\n",
    "        \n",
    "        for q in qoutes:\n",
    "            author = q.find('small', {'class': 'author'}).text\n",
    "            text = q.find('span', attrs={'class':'text'}).text\n",
    "            tags = q.find('div', {'class':'tags'}).find('meta')['content']\n",
    "    \n",
    "            quotes_tuple = (author, text, tags.replace(',', ', '))\n",
    "    \n",
    "            all_qoutes.append(quotes_tuple)\n",
    "        \n",
    "        try:\n",
    "            next_page = page.select_one('nav li[class=next] a')['href']\n",
    "            url = f'https://quotes.toscrape.com/{next_page}'\n",
    "            p += 1\n",
    "        except:\n",
    "            break\n",
    "\n",
    "print('Done!')"
   ]
  },
  {
   "cell_type": "code",
   "execution_count": 3,
   "id": "97baf5b0",
   "metadata": {},
   "outputs": [
    {
     "data": {
      "text/plain": [
       "('Albert Einstein',\n",
       " '“The world as we have created it is a process of our thinking. It cannot be changed without changing our thinking.”',\n",
       " 'change, deep-thoughts, thinking, world')"
      ]
     },
     "execution_count": 3,
     "metadata": {},
     "output_type": "execute_result"
    }
   ],
   "source": [
    "#Создание базы данных Quotes\n",
    "\n",
    "connection = sqlite3.connect('qoutes.db')\n",
    "cursor = connection.cursor()\n",
    "\n",
    "#Проверка и удаление существующей таблицы\n",
    "\n",
    "delete = '''\n",
    "    DROP TABLE IF EXISTS texts\n",
    "'''\n",
    "cursor.execute(delete)\n",
    "\n",
    "#Создание новой таблицы\n",
    "\n",
    "query = '''\n",
    "    CREATE TABLE IF NOT EXISTS texts (\n",
    "        author TEXT,\n",
    "        quote TEXT,\n",
    "        tags TEXT\n",
    "    )\n",
    "'''\n",
    "\n",
    "cursor.execute(query)\n",
    "connection.commit()\n",
    "\n",
    "#Вставка значений в базу данных\n",
    "\n",
    "insert_query = '''\n",
    "    INSERT INTO texts (\n",
    "        author,\n",
    "        quote,\n",
    "        tags\n",
    "    )\n",
    "    VALUES (\n",
    "        ?,\n",
    "        ?,\n",
    "        ?\n",
    "    )\n",
    "'''\n",
    "\n",
    "cursor.executemany(insert_query, all_qoutes)\n",
    "connection.commit()\n",
    "\n",
    "#Проверка\n",
    "\n",
    "search_query = 'SELECT * FROM texts'\n",
    "cursor.execute(search_query)\n",
    "list(cursor.execute(search_query))[0]"
   ]
  }
 ],
 "metadata": {
  "kernelspec": {
   "display_name": "Python 3",
   "language": "python",
   "name": "python3"
  },
  "language_info": {
   "codemirror_mode": {
    "name": "ipython",
    "version": 3
   },
   "file_extension": ".py",
   "mimetype": "text/x-python",
   "name": "python",
   "nbconvert_exporter": "python",
   "pygments_lexer": "ipython3",
   "version": "3.8.8"
  }
 },
 "nbformat": 4,
 "nbformat_minor": 5
}
